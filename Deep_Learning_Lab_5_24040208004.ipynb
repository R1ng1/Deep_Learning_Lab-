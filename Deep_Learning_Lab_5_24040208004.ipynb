{
  "nbformat": 4,
  "nbformat_minor": 0,
  "metadata": {
    "colab": {
      "provenance": [],
      "gpuType": "T4",
      "authorship_tag": "ABX9TyM9b8QI4plnm10wOZqC0klL",
      "include_colab_link": true
    },
    "kernelspec": {
      "name": "python3",
      "display_name": "Python 3"
    },
    "language_info": {
      "name": "python"
    },
    "accelerator": "GPU"
  },
  "cells": [
    {
      "cell_type": "markdown",
      "metadata": {
        "id": "view-in-github",
        "colab_type": "text"
      },
      "source": [
        "<a href=\"https://colab.research.google.com/github/R1ng1/Deep_Learning_Lab-/blob/main/Deep_Learning_Lab_5_24040208004.ipynb\" target=\"_parent\"><img src=\"https://colab.research.google.com/assets/colab-badge.svg\" alt=\"Open In Colab\"/></a>"
      ]
    },
    {
      "cell_type": "code",
      "execution_count": null,
      "metadata": {
        "colab": {
          "base_uri": "https://localhost:8080/"
        },
        "id": "NryWPBoeqaG3",
        "outputId": "13a18b9a-b33a-4100-b469-1ed7faebc764"
      },
      "outputs": [
        {
          "output_type": "stream",
          "name": "stderr",
          "text": [
            "100%|██████████| 170M/170M [00:06<00:00, 27.8MB/s]\n"
          ]
        }
      ],
      "source": [
        "from torchvision import datasets\n",
        "data_path = '../data-unversioned/p1ch7/'\n",
        "cifar10 = datasets.CIFAR10(data_path, train=True, download=True)\n",
        "cifar10_val = datasets.CIFAR10(data_path, train=False, download=True)"
      ]
    },
    {
      "cell_type": "code",
      "source": [
        " type(cifar10).__mro__"
      ],
      "metadata": {
        "colab": {
          "base_uri": "https://localhost:8080/"
        },
        "id": "x_4TsrGyqkFm",
        "outputId": "68be4bd5-d1b8-44e1-b84a-b58200a78285"
      },
      "execution_count": null,
      "outputs": [
        {
          "output_type": "execute_result",
          "data": {
            "text/plain": [
              "(torchvision.datasets.cifar.CIFAR10,\n",
              " torchvision.datasets.vision.VisionDataset,\n",
              " torch.utils.data.dataset.Dataset,\n",
              " typing.Generic,\n",
              " object)"
            ]
          },
          "metadata": {},
          "execution_count": 3
        }
      ]
    },
    {
      "cell_type": "code",
      "source": [
        " len(cifar10)"
      ],
      "metadata": {
        "colab": {
          "base_uri": "https://localhost:8080/"
        },
        "id": "GMIowAo8rGEi",
        "outputId": "87c36248-6de7-4be6-b02e-98a77f20479e"
      },
      "execution_count": null,
      "outputs": [
        {
          "output_type": "execute_result",
          "data": {
            "text/plain": [
              "50000"
            ]
          },
          "metadata": {},
          "execution_count": 5
        }
      ]
    },
    {
      "cell_type": "code",
      "source": [
        "img, label = cifar10[99]\n",
        "class_names = ['airplane', 'automobile', 'bird', 'cat', 'deer', 'dog', 'frog', 'horse', 'ship', 'truck']\n",
        "img, label, class_names[label]"
      ],
      "metadata": {
        "colab": {
          "base_uri": "https://localhost:8080/"
        },
        "id": "6KCF4ktyrbAi",
        "outputId": "02821519-97f7-46a3-b520-8b06090b31b8"
      },
      "execution_count": null,
      "outputs": [
        {
          "output_type": "execute_result",
          "data": {
            "text/plain": [
              "(<PIL.Image.Image image mode=RGB size=32x32>, 1, 'automobile')"
            ]
          },
          "metadata": {},
          "execution_count": 7
        }
      ]
    },
    {
      "cell_type": "code",
      "source": [
        "import matplotlib.pyplot as plt\n",
        "plt.imshow(img)\n",
        "plt.show()"
      ],
      "metadata": {
        "colab": {
          "base_uri": "https://localhost:8080/",
          "height": 430
        },
        "id": "8_Ntb9gFrjqt",
        "outputId": "77bb33de-48f1-43cc-d3a5-41d9a02d6093"
      },
      "execution_count": null,
      "outputs": [
        {
          "output_type": "display_data",
          "data": {
            "text/plain": [
              "<Figure size 640x480 with 1 Axes>"
            ],
            "image/png": "[encoded data removed]"
          },
          "metadata": {}
        }
      ]
    },
    {
      "cell_type": "code",
      "source": [
        " from torchvision import transforms\n",
        " dir(transforms)"
      ],
      "metadata": {
        "colab": {
          "base_uri": "https://localhost:8080/"
        },
        "id": "CQqU49XBruxO",
        "outputId": "1657bd52-e806-4310-d832-0609f7c75060"
      },
      "execution_count": null,
      "outputs": [
        {
          "output_type": "execute_result",
          "data": {
            "text/plain": [
              "['AugMix',\n",
              " 'AutoAugment',\n",
              " 'AutoAugmentPolicy',\n",
              " 'CenterCrop',\n",
              " 'ColorJitter',\n",
              " 'Compose',\n",
              " 'ConvertImageDtype',\n",
              " 'ElasticTransform',\n",
              " 'FiveCrop',\n",
              " 'GaussianBlur',\n",
              " 'Grayscale',\n",
              " 'InterpolationMode',\n",
              " 'Lambda',\n",
              " 'LinearTransformation',\n",
              " 'Normalize',\n",
              " 'PILToTensor',\n",
              " 'Pad',\n",
              " 'RandAugment',\n",
              " 'RandomAdjustSharpness',\n",
              " 'RandomAffine',\n",
              " 'RandomApply',\n",
              " 'RandomAutocontrast',\n",
              " 'RandomChoice',\n",
              " 'RandomCrop',\n",
              " 'RandomEqualize',\n",
              " 'RandomErasing',\n",
              " 'RandomGrayscale',\n",
              " 'RandomHorizontalFlip',\n",
              " 'RandomInvert',\n",
              " 'RandomOrder',\n",
              " 'RandomPerspective',\n",
              " 'RandomPosterize',\n",
              " 'RandomResizedCrop',\n",
              " 'RandomRotation',\n",
              " 'RandomSolarize',\n",
              " 'RandomVerticalFlip',\n",
              " 'Resize',\n",
              " 'TenCrop',\n",
              " 'ToPILImage',\n",
              " 'ToTensor',\n",
              " 'TrivialAugmentWide',\n",
              " '__builtins__',\n",
              " '__cached__',\n",
              " '__doc__',\n",
              " '__file__',\n",
              " '__loader__',\n",
              " '__name__',\n",
              " '__package__',\n",
              " '__path__',\n",
              " '__spec__',\n",
              " '_functional_pil',\n",
              " '_functional_tensor',\n",
              " '_presets',\n",
              " 'autoaugment',\n",
              " 'functional',\n",
              " 'transforms']"
            ]
          },
          "metadata": {},
          "execution_count": 10
        }
      ]
    },
    {
      "cell_type": "code",
      "source": [
        " from torchvision import transforms\n",
        "to_tensor = transforms.ToTensor()\n",
        " img_t = to_tensor(img)\n",
        " img_t.shape"
      ],
      "metadata": {
        "colab": {
          "base_uri": "https://localhost:8080/"
        },
        "id": "SePvdfs3r592",
        "outputId": "1897a4ba-5129-42e3-b705-9f239bf33c1e"
      },
      "execution_count": null,
      "outputs": [
        {
          "output_type": "execute_result",
          "data": {
            "text/plain": [
              "torch.Size([3, 32, 32])"
            ]
          },
          "metadata": {},
          "execution_count": 11
        }
      ]
    },
    {
      "cell_type": "code",
      "source": [
        "tensor_cifar10 = datasets.CIFAR10(data_path, train=True, download=False,\n",
        " transform=transforms.ToTensor())"
      ],
      "metadata": {
        "id": "T6Mw3Ee3r9vO"
      },
      "execution_count": null,
      "outputs": []
    },
    {
      "cell_type": "code",
      "source": [
        "img_t, _ = tensor_cifar10[99]\n",
        "type(img_t)"
      ],
      "metadata": {
        "colab": {
          "base_uri": "https://localhost:8080/"
        },
        "id": "yK3XC_lFsBIU",
        "outputId": "49955a8f-331e-42a5-b214-5212f20a81d8"
      },
      "execution_count": null,
      "outputs": [
        {
          "output_type": "execute_result",
          "data": {
            "text/plain": [
              "torch.Tensor"
            ]
          },
          "metadata": {},
          "execution_count": 14
        }
      ]
    },
    {
      "cell_type": "code",
      "source": [
        "img_t.shape, img_t.dtype"
      ],
      "metadata": {
        "colab": {
          "base_uri": "https://localhost:8080/"
        },
        "id": "qgj1aUoAsEI7",
        "outputId": "bde09a34-4c34-45c7-ad50-eb9b89e569a9"
      },
      "execution_count": null,
      "outputs": [
        {
          "output_type": "execute_result",
          "data": {
            "text/plain": [
              "(torch.Size([3, 32, 32]), torch.float32)"
            ]
          },
          "metadata": {},
          "execution_count": 16
        }
      ]
    },
    {
      "cell_type": "code",
      "source": [
        " img_t.min(), img_t.max()"
      ],
      "metadata": {
        "colab": {
          "base_uri": "https://localhost:8080/"
        },
        "id": "Jdt4yWdKsNI4",
        "outputId": "93879134-b645-4178-a764-bb099a6e3079"
      },
      "execution_count": null,
      "outputs": [
        {
          "output_type": "execute_result",
          "data": {
            "text/plain": [
              "(tensor(0.), tensor(1.))"
            ]
          },
          "metadata": {},
          "execution_count": 17
        }
      ]
    },
    {
      "cell_type": "code",
      "source": [
        " plt.imshow(img_t.permute(1, 2, 0))\n",
        " plt.show()"
      ],
      "metadata": {
        "colab": {
          "base_uri": "https://localhost:8080/",
          "height": 430
        },
        "id": "iNX9WZzOsTLp",
        "outputId": "2afef09e-2bd3-4b94-f486-082890b3efa2"
      },
      "execution_count": null,
      "outputs": [
        {
          "output_type": "display_data",
          "data": {
            "text/plain": [
              "<Figure size 640x480 with 1 Axes>"
            ],
            "image/png": "[encoded data removed]"
          },
          "metadata": {}
        }
      ]
    },
    {
      "cell_type": "markdown",
      "source": [
        "## Normalizing data"
      ],
      "metadata": {
        "id": "avs0cyM8seRK"
      }
    },
    {
      "cell_type": "code",
      "source": [
        "import torch\n",
        "imgs = torch.stack([img_t for img_t, _ in tensor_cifar10], dim=3)\n",
        "imgs.shape"
      ],
      "metadata": {
        "colab": {
          "base_uri": "https://localhost:8080/"
        },
        "id": "_XXjoLNTsXWF",
        "outputId": "3a61e91e-3847-4081-ff04-a406a9497534"
      },
      "execution_count": null,
      "outputs": [
        {
          "output_type": "execute_result",
          "data": {
            "text/plain": [
              "torch.Size([3, 32, 32, 50000])"
            ]
          },
          "metadata": {},
          "execution_count": 21
        }
      ]
    },
    {
      "cell_type": "code",
      "source": [
        " imgs.view(3,-1).mean(dim=1)"
      ],
      "metadata": {
        "colab": {
          "base_uri": "https://localhost:8080/"
        },
        "id": "H8zR_FqIsiWZ",
        "outputId": "a016b8b0-b4db-4174-e591-0adc6a2fd3fc"
      },
      "execution_count": null,
      "outputs": [
        {
          "output_type": "execute_result",
          "data": {
            "text/plain": [
              "tensor([0.4914, 0.4822, 0.4465])"
            ]
          },
          "metadata": {},
          "execution_count": 24
        }
      ]
    },
    {
      "cell_type": "code",
      "source": [
        " imgs.view(3,-1).std(dim=1)\n"
      ],
      "metadata": {
        "colab": {
          "base_uri": "https://localhost:8080/"
        },
        "id": "0C-1bmMhspMY",
        "outputId": "6710af66-34b0-433d-9a32-ca494b407ce7"
      },
      "execution_count": null,
      "outputs": [
        {
          "output_type": "execute_result",
          "data": {
            "text/plain": [
              "tensor([0.2470, 0.2435, 0.2616])"
            ]
          },
          "metadata": {},
          "execution_count": 23
        }
      ]
    },
    {
      "cell_type": "code",
      "source": [
        " transforms.Normalize((0.4915, 0.4823, 0.4468), (0.2470, 0.2435, 0.2616))"
      ],
      "metadata": {
        "colab": {
          "base_uri": "https://localhost:8080/"
        },
        "id": "KPBKQ2cnszJB",
        "outputId": "3d9b8d6d-bcea-45a9-bda1-dd6404f3fd01"
      },
      "execution_count": null,
      "outputs": [
        {
          "output_type": "execute_result",
          "data": {
            "text/plain": [
              "Normalize(mean=(0.4915, 0.4823, 0.4468), std=(0.247, 0.2435, 0.2616))"
            ]
          },
          "metadata": {},
          "execution_count": 25
        }
      ]
    },
    {
      "cell_type": "code",
      "source": [
        "transformed_cifar10 = datasets.CIFAR10(\n",
        " data_path, train=True, download=False,\n",
        " transform=transforms.Compose([\n",
        "    transforms.ToTensor(),\n",
        "    transforms.Normalize((0.4915, 0.4823, 0.4468),\n",
        "                        (0.2470, 0.2435, 0.2616))\n",
        " ]))"
      ],
      "metadata": {
        "id": "1CEOmAIss6Oa"
      },
      "execution_count": null,
      "outputs": []
    },
    {
      "cell_type": "code",
      "source": [
        " img_t, _ = transformed_cifar10[99]\n",
        " plt.imshow(img_t.permute(1, 2, 0))\n",
        " plt.show()"
      ],
      "metadata": {
        "colab": {
          "base_uri": "https://localhost:8080/",
          "height": 467
        },
        "id": "gj8BTJ2AtCGI",
        "outputId": "33def157-6168-4f9b-e8f3-c49774a74c1e"
      },
      "execution_count": null,
      "outputs": [
        {
          "output_type": "stream",
          "name": "stderr",
          "text": [
            "WARNING:matplotlib.image:Clipping input data to the valid range for imshow with RGB data ([0..1] for floats or [0..255] for integers). Got range [-1.9806982..2.126078].\n"
          ]
        },
        {
          "output_type": "display_data",
          "data": {
            "text/plain": [
              "<Figure size 640x480 with 1 Axes>"
            ],
            "image/png": "[encoded data removed]"
          },
          "metadata": {}
        }
      ]
    },
    {
      "cell_type": "markdown",
      "source": [
        "## Distinguishing birds from airplanes"
      ],
      "metadata": {
        "id": "i0J3UhWDtdUS"
      }
    },
    {
      "cell_type": "code",
      "source": [
        " label_map = {0: 0, 2: 1}\n",
        " class_names = ['airplane', 'bird']\n",
        " cifar2 = [(img, label_map[label])\n",
        " for img, label in cifar10\n",
        " if label in [0, 2]]\n",
        " cifar2_val = [(img, label_map[label])\n",
        " for img, label in cifar10_val\n",
        " if label in [0, 2]]"
      ],
      "metadata": {
        "id": "JTHORdTttQsv"
      },
      "execution_count": null,
      "outputs": []
    },
    {
      "cell_type": "code",
      "source": [
        " import torch.nn as nn\n",
        "\n",
        " n_out = 2\n",
        " model = nn.Sequential(\n",
        "             nn.Linear(\n",
        "                 3072,\n",
        "                 512,\n",
        "                 ),\n",
        "            nn.Tanh(),\n",
        "            nn.Linear(\n",
        "                512,\n",
        "                n_out,\n",
        "                )\n",
        "            )\n"
      ],
      "metadata": {
        "id": "FJksPuA_tisO"
      },
      "execution_count": null,
      "outputs": []
    },
    {
      "cell_type": "markdown",
      "source": [
        "## Representing the output as probabilities"
      ],
      "metadata": {
        "id": "kU8BRZMFuONh"
      }
    },
    {
      "cell_type": "code",
      "source": [
        "def softmax(x):\n",
        " return torch.exp(x) / torch.exp(x).sum()"
      ],
      "metadata": {
        "id": "ke4PxTEJtu9Z"
      },
      "execution_count": null,
      "outputs": []
    },
    {
      "cell_type": "code",
      "source": [
        "x = torch.tensor([1.0, 2.0, 3.0])\n",
        "\n",
        "softmax(x)"
      ],
      "metadata": {
        "colab": {
          "base_uri": "https://localhost:8080/"
        },
        "id": "oW67Txq8uS6W",
        "outputId": "0506a195-8e88-4bab-e4bf-9f224f3e09b6"
      },
      "execution_count": null,
      "outputs": [
        {
          "output_type": "execute_result",
          "data": {
            "text/plain": [
              "tensor([0.0900, 0.2447, 0.6652])"
            ]
          },
          "metadata": {},
          "execution_count": 36
        }
      ]
    },
    {
      "cell_type": "code",
      "source": [
        " softmax(x).sum()"
      ],
      "metadata": {
        "colab": {
          "base_uri": "https://localhost:8080/"
        },
        "id": "6SygyzJduWiC",
        "outputId": "bbc6fac3-9b97-4f1c-ff74-3df72978b5ff"
      },
      "execution_count": null,
      "outputs": [
        {
          "output_type": "execute_result",
          "data": {
            "text/plain": [
              "tensor(1.)"
            ]
          },
          "metadata": {},
          "execution_count": 37
        }
      ]
    },
    {
      "cell_type": "code",
      "source": [
        " softmax = nn.Softmax(dim=1)\n",
        " x = torch.tensor([[1.0, 2.0, 3.0],\n",
        "                  [1.0, 2.0, 3.0]])\n",
        " softmax(x)"
      ],
      "metadata": {
        "colab": {
          "base_uri": "https://localhost:8080/"
        },
        "id": "vpa0etFmuh86",
        "outputId": "da724d4e-bd92-46ef-ce81-f2af68d20e43"
      },
      "execution_count": null,
      "outputs": [
        {
          "output_type": "execute_result",
          "data": {
            "text/plain": [
              "tensor([[0.0900, 0.2447, 0.6652],\n",
              "        [0.0900, 0.2447, 0.6652]])"
            ]
          },
          "metadata": {},
          "execution_count": 38
        }
      ]
    },
    {
      "cell_type": "code",
      "source": [
        "model = nn.Sequential(\n",
        " nn.Linear(3072, 512),\n",
        " nn.Tanh(),\n",
        " nn.Linear(512, 2),\n",
        " nn.Softmax(dim=1))"
      ],
      "metadata": {
        "id": "hyT99kfquuGF"
      },
      "execution_count": null,
      "outputs": []
    },
    {
      "cell_type": "code",
      "source": [
        "img_t, _ = tensor_cifar10[0] # Get an image from tensor_cifar10 which contains tensors\n",
        "plt.imshow(img_t.permute(1, 2, 0))\n",
        "plt.show()"
      ],
      "metadata": {
        "colab": {
          "base_uri": "https://localhost:8080/",
          "height": 430
        },
        "id": "1_IbsUi8uxuF",
        "outputId": "519d623d-f215-4c4a-d0fb-5be7b5069fa7"
      },
      "execution_count": null,
      "outputs": [
        {
          "output_type": "display_data",
          "data": {
            "text/plain": [
              "<Figure size 640x480 with 1 Axes>"
            ],
            "image/png": "[encoded data removed]"
          },
          "metadata": {}
        }
      ]
    },
    {
      "cell_type": "code",
      "source": [
        "img_batch = img_t.view(-1).unsqueeze(0)"
      ],
      "metadata": {
        "id": "ov6IB5klu0Xg"
      },
      "execution_count": null,
      "outputs": []
    },
    {
      "cell_type": "code",
      "source": [
        "out = model(img_batch)\n",
        "out"
      ],
      "metadata": {
        "colab": {
          "base_uri": "https://localhost:8080/"
        },
        "id": "4tXpMTBevkI8",
        "outputId": "0a0980e2-5e89-4b05-d142-6ec1780e5d3c"
      },
      "execution_count": null,
      "outputs": [
        {
          "output_type": "execute_result",
          "data": {
            "text/plain": [
              "tensor([[0.5011, 0.4989]], grad_fn=<SoftmaxBackward0>)"
            ]
          },
          "metadata": {},
          "execution_count": 52
        }
      ]
    },
    {
      "cell_type": "code",
      "source": [
        " _, index = torch.max(out, dim=1)\n",
        "\n",
        " index"
      ],
      "metadata": {
        "colab": {
          "base_uri": "https://localhost:8080/"
        },
        "id": "zePzyp-Gvp02",
        "outputId": "6a865a73-29c3-4f70-ebf0-cc9e8f81d0aa"
      },
      "execution_count": null,
      "outputs": [
        {
          "output_type": "execute_result",
          "data": {
            "text/plain": [
              "tensor([0])"
            ]
          },
          "metadata": {},
          "execution_count": 54
        }
      ]
    },
    {
      "cell_type": "markdown",
      "source": [
        "##  A loss for classifying"
      ],
      "metadata": {
        "id": "f0Xm1u-rv8zj"
      }
    },
    {
      "cell_type": "code",
      "source": [
        " model = nn.Sequential(\n",
        " nn.Linear(3072, 512),\n",
        " nn.Tanh(),\n",
        " nn.Linear(512, 2),\n",
        " nn.LogSoftmax(dim=1))"
      ],
      "metadata": {
        "id": "uw-hEp24vx2A"
      },
      "execution_count": null,
      "outputs": []
    },
    {
      "cell_type": "code",
      "source": [
        " loss = nn.NLLLoss()"
      ],
      "metadata": {
        "id": "M_GvQZijwAYf"
      },
      "execution_count": null,
      "outputs": []
    },
    {
      "cell_type": "code",
      "source": [
        "img_t, label = transformed_cifar10[0]\n",
        "out = model(img_t.view(-1).unsqueeze(0))\n",
        "loss(out, torch.tensor([label]))"
      ],
      "metadata": {
        "colab": {
          "base_uri": "https://localhost:8080/",
          "height": 339
        },
        "id": "QsjLVbSIwD8Z",
        "outputId": "89c1d974-a161-4cb4-eb91-4e9ca402ba6f"
      },
      "execution_count": null,
      "outputs": [
        {
          "output_type": "error",
          "ename": "IndexError",
          "evalue": "Target 6 is out of bounds.",
          "traceback": [
            "\u001b[0;31m---------------------------------------------------------------------------\u001b[0m",
            "\u001b[0;31mIndexError\u001b[0m                                Traceback (most recent call last)",
            "\u001b[0;32m/tmp/ipython-input-68183200.py\u001b[0m in \u001b[0;36m<cell line: 0>\u001b[0;34m()\u001b[0m\n\u001b[1;32m      1\u001b[0m \u001b[0mimg_t\u001b[0m\u001b[0;34m,\u001b[0m \u001b[0mlabel\u001b[0m \u001b[0;34m=\u001b[0m \u001b[0mtransformed_cifar10\u001b[0m\u001b[0;34m[\u001b[0m\u001b[0;36m0\u001b[0m\u001b[0;34m]\u001b[0m\u001b[0;34m\u001b[0m\u001b[0;34m\u001b[0m\u001b[0m\n\u001b[1;32m      2\u001b[0m \u001b[0mout\u001b[0m \u001b[0;34m=\u001b[0m \u001b[0mmodel\u001b[0m\u001b[0;34m(\u001b[0m\u001b[0mimg_t\u001b[0m\u001b[0;34m.\u001b[0m\u001b[0mview\u001b[0m\u001b[0;34m(\u001b[0m\u001b[0;34m-\u001b[0m\u001b[0;36m1\u001b[0m\u001b[0;34m)\u001b[0m\u001b[0;34m.\u001b[0m\u001b[0munsqueeze\u001b[0m\u001b[0;34m(\u001b[0m\u001b[0;36m0\u001b[0m\u001b[0;34m)\u001b[0m\u001b[0;34m)\u001b[0m\u001b[0;34m\u001b[0m\u001b[0;34m\u001b[0m\u001b[0m\n\u001b[0;32m----> 3\u001b[0;31m \u001b[0mloss\u001b[0m\u001b[0;34m(\u001b[0m\u001b[0mout\u001b[0m\u001b[0;34m,\u001b[0m \u001b[0mtorch\u001b[0m\u001b[0;34m.\u001b[0m\u001b[0mtensor\u001b[0m\u001b[0;34m(\u001b[0m\u001b[0;34m[\u001b[0m\u001b[0mlabel\u001b[0m\u001b[0;34m]\u001b[0m\u001b[0;34m)\u001b[0m\u001b[0;34m)\u001b[0m\u001b[0;34m\u001b[0m\u001b[0;34m\u001b[0m\u001b[0m\n\u001b[0m",
            "\u001b[0;32m/usr/local/lib/python3.12/dist-packages/torch/nn/modules/module.py\u001b[0m in \u001b[0;36m_wrapped_call_impl\u001b[0;34m(self, *args, **kwargs)\u001b[0m\n\u001b[1;32m   1771\u001b[0m             \u001b[0;32mreturn\u001b[0m \u001b[0mself\u001b[0m\u001b[0;34m.\u001b[0m\u001b[0m_compiled_call_impl\u001b[0m\u001b[0;34m(\u001b[0m\u001b[0;34m*\u001b[0m\u001b[0margs\u001b[0m\u001b[0;34m,\u001b[0m \u001b[0;34m**\u001b[0m\u001b[0mkwargs\u001b[0m\u001b[0;34m)\u001b[0m  \u001b[0;31m# type: ignore[misc]\u001b[0m\u001b[0;34m\u001b[0m\u001b[0;34m\u001b[0m\u001b[0m\n\u001b[1;32m   1772\u001b[0m         \u001b[0;32melse\u001b[0m\u001b[0;34m:\u001b[0m\u001b[0;34m\u001b[0m\u001b[0;34m\u001b[0m\u001b[0m\n\u001b[0;32m-> 1773\u001b[0;31m             \u001b[0;32mreturn\u001b[0m \u001b[0mself\u001b[0m\u001b[0;34m.\u001b[0m\u001b[0m_call_impl\u001b[0m\u001b[0;34m(\u001b[0m\u001b[0;34m*\u001b[0m\u001b[0margs\u001b[0m\u001b[0;34m,\u001b[0m \u001b[0;34m**\u001b[0m\u001b[0mkwargs\u001b[0m\u001b[0;34m)\u001b[0m\u001b[0;34m\u001b[0m\u001b[0;34m\u001b[0m\u001b[0m\n\u001b[0m\u001b[1;32m   1774\u001b[0m \u001b[0;34m\u001b[0m\u001b[0m\n\u001b[1;32m   1775\u001b[0m     \u001b[0;31m# torchrec tests the code consistency with the following code\u001b[0m\u001b[0;34m\u001b[0m\u001b[0;34m\u001b[0m\u001b[0m\n",
            "\u001b[0;32m/usr/local/lib/python3.12/dist-packages/torch/nn/modules/module.py\u001b[0m in \u001b[0;36m_call_impl\u001b[0;34m(self, *args, **kwargs)\u001b[0m\n\u001b[1;32m   1782\u001b[0m                 \u001b[0;32mor\u001b[0m \u001b[0m_global_backward_pre_hooks\u001b[0m \u001b[0;32mor\u001b[0m \u001b[0m_global_backward_hooks\u001b[0m\u001b[0;34m\u001b[0m\u001b[0;34m\u001b[0m\u001b[0m\n\u001b[1;32m   1783\u001b[0m                 or _global_forward_hooks or _global_forward_pre_hooks):\n\u001b[0;32m-> 1784\u001b[0;31m             \u001b[0;32mreturn\u001b[0m \u001b[0mforward_call\u001b[0m\u001b[0;34m(\u001b[0m\u001b[0;34m*\u001b[0m\u001b[0margs\u001b[0m\u001b[0;34m,\u001b[0m \u001b[0;34m**\u001b[0m\u001b[0mkwargs\u001b[0m\u001b[0;34m)\u001b[0m\u001b[0;34m\u001b[0m\u001b[0;34m\u001b[0m\u001b[0m\n\u001b[0m\u001b[1;32m   1785\u001b[0m \u001b[0;34m\u001b[0m\u001b[0m\n\u001b[1;32m   1786\u001b[0m         \u001b[0mresult\u001b[0m \u001b[0;34m=\u001b[0m \u001b[0;32mNone\u001b[0m\u001b[0;34m\u001b[0m\u001b[0;34m\u001b[0m\u001b[0m\n",
            "\u001b[0;32m/usr/local/lib/python3.12/dist-packages/torch/nn/modules/loss.py\u001b[0m in \u001b[0;36mforward\u001b[0;34m(self, input, target)\u001b[0m\n\u001b[1;32m    251\u001b[0m \u001b[0;34m\u001b[0m\u001b[0m\n\u001b[1;32m    252\u001b[0m     \u001b[0;32mdef\u001b[0m \u001b[0mforward\u001b[0m\u001b[0;34m(\u001b[0m\u001b[0mself\u001b[0m\u001b[0;34m,\u001b[0m \u001b[0minput\u001b[0m\u001b[0;34m:\u001b[0m \u001b[0mTensor\u001b[0m\u001b[0;34m,\u001b[0m \u001b[0mtarget\u001b[0m\u001b[0;34m:\u001b[0m \u001b[0mTensor\u001b[0m\u001b[0;34m)\u001b[0m \u001b[0;34m->\u001b[0m \u001b[0mTensor\u001b[0m\u001b[0;34m:\u001b[0m\u001b[0;34m\u001b[0m\u001b[0;34m\u001b[0m\u001b[0m\n\u001b[0;32m--> 253\u001b[0;31m         return F.nll_loss(\n\u001b[0m\u001b[1;32m    254\u001b[0m             \u001b[0minput\u001b[0m\u001b[0;34m,\u001b[0m\u001b[0;34m\u001b[0m\u001b[0;34m\u001b[0m\u001b[0m\n\u001b[1;32m    255\u001b[0m             \u001b[0mtarget\u001b[0m\u001b[0;34m,\u001b[0m\u001b[0;34m\u001b[0m\u001b[0;34m\u001b[0m\u001b[0m\n",
            "\u001b[0;32m/usr/local/lib/python3.12/dist-packages/torch/nn/functional.py\u001b[0m in \u001b[0;36mnll_loss\u001b[0;34m(input, target, weight, size_average, ignore_index, reduce, reduction)\u001b[0m\n\u001b[1;32m   3145\u001b[0m     \u001b[0;32mif\u001b[0m \u001b[0msize_average\u001b[0m \u001b[0;32mis\u001b[0m \u001b[0;32mnot\u001b[0m \u001b[0;32mNone\u001b[0m \u001b[0;32mor\u001b[0m \u001b[0mreduce\u001b[0m \u001b[0;32mis\u001b[0m \u001b[0;32mnot\u001b[0m \u001b[0;32mNone\u001b[0m\u001b[0;34m:\u001b[0m\u001b[0;34m\u001b[0m\u001b[0;34m\u001b[0m\u001b[0m\n\u001b[1;32m   3146\u001b[0m         \u001b[0mreduction\u001b[0m \u001b[0;34m=\u001b[0m \u001b[0m_Reduction\u001b[0m\u001b[0;34m.\u001b[0m\u001b[0mlegacy_get_string\u001b[0m\u001b[0;34m(\u001b[0m\u001b[0msize_average\u001b[0m\u001b[0;34m,\u001b[0m \u001b[0mreduce\u001b[0m\u001b[0;34m)\u001b[0m\u001b[0;34m\u001b[0m\u001b[0;34m\u001b[0m\u001b[0m\n\u001b[0;32m-> 3147\u001b[0;31m     return torch._C._nn.nll_loss_nd(\n\u001b[0m\u001b[1;32m   3148\u001b[0m         \u001b[0minput\u001b[0m\u001b[0;34m,\u001b[0m \u001b[0mtarget\u001b[0m\u001b[0;34m,\u001b[0m \u001b[0mweight\u001b[0m\u001b[0;34m,\u001b[0m \u001b[0m_Reduction\u001b[0m\u001b[0;34m.\u001b[0m\u001b[0mget_enum\u001b[0m\u001b[0;34m(\u001b[0m\u001b[0mreduction\u001b[0m\u001b[0;34m)\u001b[0m\u001b[0;34m,\u001b[0m \u001b[0mignore_index\u001b[0m\u001b[0;34m\u001b[0m\u001b[0;34m\u001b[0m\u001b[0m\n\u001b[1;32m   3149\u001b[0m     )\n",
            "\u001b[0;31mIndexError\u001b[0m: Target 6 is out of bounds."
          ]
        }
      ]
    },
    {
      "cell_type": "markdown",
      "source": [
        "##  Training the classifier"
      ],
      "metadata": {
        "id": "Zqr2UPqawNXb"
      }
    },
    {
      "cell_type": "code",
      "source": [
        "import torch\n",
        "import torch.nn as nn\n",
        "import torch.optim as optim # Import torch.optim\n",
        "\n",
        "model = nn.Sequential(\n",
        "    nn.Linear(3072, 512),\n",
        "    nn.Tanh(),\n",
        "    nn.Linear(512, 2),\n",
        "    nn.LogSoftmax(dim=1)\n",
        ")\n",
        "\n",
        "learning_rate = 1e-2\n",
        "optimizer = optim.SGD(model.parameters(), lr=learning_rate)\n",
        "loss_fn = nn.NLLLoss() # Rename loss to loss_fn to avoid conflict with loss variable inside the loop\n",
        "\n",
        "n_epochs = 5\n",
        "for epoch in range(n_epochs):\n",
        "    for img, label in transformed_cifar2: # Use the transformed_cifar2 dataset\n",
        "        out = model(img.view(-1).unsqueeze(0))\n",
        "        loss = loss_fn(out, torch.tensor([label])) # Use loss_fn and the correct label\n",
        "        optimizer.zero_grad()\n",
        "        loss.backward()\n",
        "        optimizer.step()\n",
        "\n",
        "    print(\"Epoch: %d, Loss: %f\" % (epoch, float(loss)))"
      ],
      "metadata": {
        "colab": {
          "base_uri": "https://localhost:8080/"
        },
        "id": "7pAZBNj2wHIw",
        "outputId": "3e569e07-7f08-4826-b96a-facd7f94c561"
      },
      "execution_count": null,
      "outputs": [
        {
          "output_type": "stream",
          "name": "stdout",
          "text": [
            "Epoch: 0, Loss: 2.756318\n",
            "Epoch: 1, Loss: 6.961388\n",
            "Epoch: 2, Loss: 6.442205\n",
            "Epoch: 3, Loss: 2.613232\n",
            "Epoch: 4, Loss: 5.000542\n"
          ]
        }
      ]
    },
    {
      "cell_type": "code",
      "source": [
        " train_loader = torch.utils.data.DataLoader(cifar2, batch_size=64,\n",
        " shuffle=True)"
      ],
      "metadata": {
        "id": "8OQys-YYwyZA"
      },
      "execution_count": null,
      "outputs": []
    },
    {
      "cell_type": "code",
      "source": [
        "import torch\n",
        "import torch.nn as nn\n",
        "import torch.optim as optim\n",
        "\n",
        "# Use the transformed_cifar2 dataset which contains tensors\n",
        "train_loader = torch.utils.data.DataLoader(transformed_cifar2, batch_size=64,\n",
        "                                           shuffle=True)\n",
        "model = nn.Sequential(\n",
        "    nn.Linear(3072, 512),\n",
        "    nn.Tanh(),\n",
        "    nn.Linear(512, 2),\n",
        "    nn.LogSoftmax(dim=1)\n",
        ")\n",
        "learning_rate = 1e-2\n",
        "optimizer = optim.SGD(model.parameters(), lr=learning_rate)\n",
        "loss_fn = nn.NLLLoss()\n",
        "n_epochs = 100\n",
        "\n",
        "for epoch in range(n_epochs):\n",
        "    for imgs, labels in train_loader:\n",
        "        batch_size = imgs.shape[0]\n",
        "        outputs = model(imgs.view(batch_size,-1))\n",
        "        loss = loss_fn(outputs, labels)\n",
        "        optimizer.zero_grad()\n",
        "        loss.backward()\n",
        "        optimizer.step()\n",
        "\n",
        "    print(\"Epoch: %d, Loss: %f\" % (epoch, float(loss)))"
      ],
      "metadata": {
        "colab": {
          "base_uri": "https://localhost:8080/"
        },
        "id": "GXJcp5Ynx359",
        "outputId": "3bef21ab-d5dc-4f99-9e22-1ce4b1058bca"
      },
      "execution_count": null,
      "outputs": [
        {
          "output_type": "stream",
          "name": "stdout",
          "text": [
            "Epoch: 0, Loss: 0.471550\n",
            "Epoch: 1, Loss: 0.396580\n",
            "Epoch: 2, Loss: 0.445779\n",
            "Epoch: 3, Loss: 0.321041\n",
            "Epoch: 4, Loss: 0.194366\n",
            "Epoch: 5, Loss: 0.744688\n",
            "Epoch: 6, Loss: 0.396749\n",
            "Epoch: 7, Loss: 0.405005\n",
            "Epoch: 8, Loss: 0.663167\n",
            "Epoch: 9, Loss: 0.777275\n",
            "Epoch: 10, Loss: 0.391202\n",
            "Epoch: 11, Loss: 0.269902\n",
            "Epoch: 12, Loss: 0.502617\n",
            "Epoch: 13, Loss: 0.590541\n",
            "Epoch: 14, Loss: 0.108774\n",
            "Epoch: 15, Loss: 0.340189\n",
            "Epoch: 16, Loss: 0.258956\n",
            "Epoch: 17, Loss: 0.180751\n",
            "Epoch: 18, Loss: 0.324080\n",
            "Epoch: 19, Loss: 0.269492\n",
            "Epoch: 20, Loss: 0.169193\n",
            "Epoch: 21, Loss: 0.485858\n",
            "Epoch: 22, Loss: 0.289256\n",
            "Epoch: 23, Loss: 0.199922\n",
            "Epoch: 24, Loss: 0.194028\n",
            "Epoch: 25, Loss: 0.306319\n",
            "Epoch: 26, Loss: 0.057253\n",
            "Epoch: 27, Loss: 0.249771\n",
            "Epoch: 28, Loss: 0.228623\n",
            "Epoch: 29, Loss: 0.250708\n",
            "Epoch: 30, Loss: 0.210199\n",
            "Epoch: 31, Loss: 0.152860\n",
            "Epoch: 32, Loss: 0.284042\n",
            "Epoch: 33, Loss: 0.394033\n",
            "Epoch: 34, Loss: 0.233707\n",
            "Epoch: 35, Loss: 0.086918\n",
            "Epoch: 36, Loss: 0.087130\n",
            "Epoch: 37, Loss: 0.241686\n",
            "Epoch: 38, Loss: 0.300978\n",
            "Epoch: 39, Loss: 0.088172\n",
            "Epoch: 40, Loss: 0.185502\n",
            "Epoch: 41, Loss: 0.042155\n",
            "Epoch: 42, Loss: 0.076699\n",
            "Epoch: 43, Loss: 0.116677\n",
            "Epoch: 44, Loss: 0.051028\n",
            "Epoch: 45, Loss: 0.108531\n",
            "Epoch: 46, Loss: 0.297787\n",
            "Epoch: 47, Loss: 0.133653\n",
            "Epoch: 48, Loss: 0.160901\n",
            "Epoch: 49, Loss: 0.050649\n",
            "Epoch: 50, Loss: 0.017548\n",
            "Epoch: 51, Loss: 0.021217\n",
            "Epoch: 52, Loss: 0.073013\n",
            "Epoch: 53, Loss: 0.104059\n",
            "Epoch: 54, Loss: 0.033933\n",
            "Epoch: 55, Loss: 0.027223\n",
            "Epoch: 56, Loss: 0.019989\n",
            "Epoch: 57, Loss: 0.091607\n",
            "Epoch: 58, Loss: 0.031449\n",
            "Epoch: 59, Loss: 0.038550\n",
            "Epoch: 60, Loss: 0.044498\n",
            "Epoch: 61, Loss: 0.025340\n",
            "Epoch: 62, Loss: 0.047155\n",
            "Epoch: 63, Loss: 0.065140\n",
            "Epoch: 64, Loss: 0.046893\n",
            "Epoch: 65, Loss: 0.039302\n",
            "Epoch: 66, Loss: 0.072684\n",
            "Epoch: 67, Loss: 0.034686\n",
            "Epoch: 68, Loss: 0.017970\n",
            "Epoch: 69, Loss: 0.022922\n",
            "Epoch: 70, Loss: 0.031184\n",
            "Epoch: 71, Loss: 0.030741\n",
            "Epoch: 72, Loss: 0.014292\n",
            "Epoch: 73, Loss: 0.032694\n",
            "Epoch: 74, Loss: 0.044980\n",
            "Epoch: 75, Loss: 0.032113\n",
            "Epoch: 76, Loss: 0.036469\n",
            "Epoch: 77, Loss: 0.037069\n",
            "Epoch: 78, Loss: 0.057019\n",
            "Epoch: 79, Loss: 0.036544\n",
            "Epoch: 80, Loss: 0.021591\n",
            "Epoch: 81, Loss: 0.013887\n",
            "Epoch: 82, Loss: 0.028275\n",
            "Epoch: 83, Loss: 0.021029\n",
            "Epoch: 84, Loss: 0.027308\n",
            "Epoch: 85, Loss: 0.013461\n",
            "Epoch: 86, Loss: 0.025954\n",
            "Epoch: 87, Loss: 0.010774\n",
            "Epoch: 88, Loss: 0.108708\n",
            "Epoch: 89, Loss: 0.017132\n",
            "Epoch: 90, Loss: 0.016331\n",
            "Epoch: 91, Loss: 0.005798\n",
            "Epoch: 92, Loss: 0.007710\n",
            "Epoch: 93, Loss: 0.016698\n",
            "Epoch: 94, Loss: 0.042870\n",
            "Epoch: 95, Loss: 0.013095\n",
            "Epoch: 96, Loss: 0.015090\n",
            "Epoch: 97, Loss: 0.023603\n",
            "Epoch: 98, Loss: 0.020194\n",
            "Epoch: 99, Loss: 0.008775\n"
          ]
        }
      ]
    },
    {
      "cell_type": "code",
      "source": [
        "val_loader = torch.utils.data.DataLoader(transformed_cifar2_val, batch_size=64,\n",
        "                                         shuffle=False)\n",
        "correct = 0\n",
        "total = 0\n",
        "with torch.no_grad():\n",
        "    for imgs, labels in val_loader:\n",
        "        batch_size = imgs.shape[0]\n",
        "        outputs = model(imgs.view(batch_size,-1))\n",
        "        _, predicted = torch.max(outputs, dim=1)\n",
        "        total += labels.shape[0]\n",
        "        correct += int((predicted == labels).sum())\n",
        "\n",
        "print(\"Accuracy: %f\" % (correct / total))"
      ],
      "metadata": {
        "colab": {
          "base_uri": "https://localhost:8080/"
        },
        "id": "QaQDg7F-y-Wr",
        "outputId": "c3a2e7ef-5f46-4c19-97e3-89292d41104b"
      },
      "execution_count": null,
      "outputs": [
        {
          "output_type": "stream",
          "name": "stdout",
          "text": [
            "Accuracy: 0.818500\n"
          ]
        }
      ]
    },
    {
      "cell_type": "code",
      "source": [
        " model = nn.Sequential(\n",
        " nn.Linear(3072, 1024),\n",
        " nn.Tanh(),\n",
        " nn.Linear(1024, 512),\n",
        " nn.Tanh(),\n",
        " nn.Linear(512, 128),\n",
        " nn.Tanh(),\n",
        " nn.Linear(128, 2),\n",
        " nn.LogSoftmax(dim=1))"
      ],
      "metadata": {
        "id": "4Mztht0wzAF_"
      },
      "execution_count": null,
      "outputs": []
    },
    {
      "cell_type": "code",
      "source": [
        " model = nn.Sequential(\n",
        " nn.Linear(3072, 1024),\n",
        " nn.Tanh(),\n",
        " nn.Linear(1024, 512),\n",
        " nn.Tanh(),\n",
        " nn.Linear(512, 128),\n",
        " nn.Tanh(),\n",
        " nn.Linear(128, 2))\n",
        " loss_fn = nn.CrossEntropyLoss()"
      ],
      "metadata": {
        "id": "01AhQMTKzTIq"
      },
      "execution_count": null,
      "outputs": []
    },
    {
      "cell_type": "code",
      "source": [
        "numel_list = [p.numel()\n",
        " for p in model.parameters()\n",
        " if p.requires_grad == True]\n",
        "sum(numel_list), numel_list"
      ],
      "metadata": {
        "colab": {
          "base_uri": "https://localhost:8080/"
        },
        "id": "OLryldykzWV-",
        "outputId": "4ebf6693-0fd5-4c87-e4cf-a02c6281ab9c"
      },
      "execution_count": null,
      "outputs": [
        {
          "output_type": "execute_result",
          "data": {
            "text/plain": [
              "(3737474, [3145728, 1024, 524288, 512, 65536, 128, 256, 2])"
            ]
          },
          "metadata": {},
          "execution_count": 77
        }
      ]
    },
    {
      "cell_type": "code",
      "source": [
        "numel_list = [p.numel() for p in model.parameters()]\n",
        "sum(numel_list), numel_list"
      ],
      "metadata": {
        "colab": {
          "base_uri": "https://localhost:8080/"
        },
        "id": "7uF2W4M1zZjJ",
        "outputId": "e2d806b2-6502-4663-90d3-602d0490e836"
      },
      "execution_count": null,
      "outputs": [
        {
          "output_type": "execute_result",
          "data": {
            "text/plain": [
              "(3737474, [3145728, 1024, 524288, 512, 65536, 128, 256, 2])"
            ]
          },
          "metadata": {},
          "execution_count": 79
        }
      ]
    },
    {
      "cell_type": "code",
      "source": [
        "linear = nn.Linear(3072, 1024)\n",
        "linear.weight.shape, linear.bias.shape"
      ],
      "metadata": {
        "colab": {
          "base_uri": "https://localhost:8080/"
        },
        "id": "KrJVMpCpzezF",
        "outputId": "72bce0a2-2ab8-4b42-c2f0-222a47530da0"
      },
      "execution_count": null,
      "outputs": [
        {
          "output_type": "execute_result",
          "data": {
            "text/plain": [
              "(torch.Size([1024, 3072]), torch.Size([1024]))"
            ]
          },
          "metadata": {},
          "execution_count": 81
        }
      ]
    }
  ]
}